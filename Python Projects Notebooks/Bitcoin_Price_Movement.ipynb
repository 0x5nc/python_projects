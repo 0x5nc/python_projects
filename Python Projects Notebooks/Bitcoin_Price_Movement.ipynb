{
 "cells": [
  {
   "cell_type": "markdown",
   "metadata": {},
   "source": [
    "# Bitcoin 30 Days Price changes with CoinGecko API"
   ]
  },
  {
   "cell_type": "markdown",
   "metadata": {},
   "source": [
    "## Installing the needed dependencies for the API"
   ]
  },
  {
   "cell_type": "code",
   "execution_count": null,
   "metadata": {},
   "outputs": [],
   "source": [
    "!pip install pycoingecko\n",
    "!pip install plotly\n",
    "!pip install mplfinance"
   ]
  },
  {
   "cell_type": "markdown",
   "metadata": {},
   "source": [
    "## Importing the necessary API libraries "
   ]
  },
  {
   "cell_type": "code",
   "execution_count": 5,
   "metadata": {},
   "outputs": [],
   "source": [
    "import pandas as pd\n",
    "import numpy as np\n",
    "import plotly.graph_objects as go\n",
    "from plotly.offline import plot\n",
    "import matplotlib.pyplot as plt\n",
    "import datetime\n",
    "from pycoingecko import CoinGeckoAPI\n",
    "from mplfinance.original_flavor import candlestick2_ohlc"
   ]
  },
  {
   "cell_type": "markdown",
   "metadata": {},
   "source": [
    "## Creating our API Instance"
   ]
  },
  {
   "cell_type": "markdown",
   "metadata": {},
   "source": [
    "#### We will be using the CoinGecko API to create one of the candlestick graphs for Bitcoin. We will use the API to get the price data for 30 days with 24 observation per day, 1 per hour. We will find the max, min, open, and close price per day meaning we will have 30 candlesticks and use that to generate the candlestick graph. Although we are using the CoinGecko API, we will use a Python client/wrapper for the API called PyCoinGecko. PyCoinGecko will make performing the requests easy and it will deal with the enpoint targeting.\n",
    "\n",
    "#### Lets start off by getting the data we need. Using the get_coin_market_chart_by_id(id, vs_currency, days). id is the name of the coin we want, vs_currency is the currency we want the price in, and days is how many days back from today we want."
   ]
  },
  {
   "cell_type": "code",
   "execution_count": 7,
   "metadata": {},
   "outputs": [],
   "source": [
    "cg = CoinGeckoAPI()\n",
    "\n",
    "bitcoin_data = cg.get_coin_market_chart_by_id(id='bitcoin', vs_currency='usd', days=30)"
   ]
  },
  {
   "cell_type": "code",
   "execution_count": null,
   "metadata": {},
   "outputs": [],
   "source": [
    "type(bitcoin_data)\n",
    "bitcoin_data"
   ]
  },
  {
   "cell_type": "markdown",
   "metadata": {},
   "source": [
    "## Data Wrangling"
   ]
  },
  {
   "cell_type": "markdown",
   "metadata": {},
   "source": [
    "#### The response we get is in the form of a JSON which includes the price, market caps, and total volumes along with timestamps for each observation. We are focused on the prices so we will select that data."
   ]
  },
  {
   "cell_type": "code",
   "execution_count": null,
   "metadata": {},
   "outputs": [],
   "source": [
    "bitcoin_price_data = bitcoin_data['prices']\n",
    "\n",
    "bitcoin_price_data[0:5]"
   ]
  },
  {
   "cell_type": "markdown",
   "metadata": {},
   "source": [
    "#### Finally lets turn this data into a Pandas DataFrame."
   ]
  },
  {
   "cell_type": "code",
   "execution_count": null,
   "metadata": {},
   "outputs": [],
   "source": [
    "data = pd.DataFrame(bitcoin_price_data, columns=['TimeStamp', 'Price'])\n",
    "data"
   ]
  },
  {
   "cell_type": "code",
   "execution_count": null,
   "metadata": {},
   "outputs": [],
   "source": [
    "data['date'] = data['TimeStamp'].apply(lambda d: datetime.date.fromtimestamp(d/1000.0))\n",
    "data['date']"
   ]
  },
  {
   "cell_type": "markdown",
   "metadata": {},
   "source": [
    "#### Using this modified dataset we can now group by the Date and find the min, max, open, and close for the candlesticks."
   ]
  },
  {
   "cell_type": "code",
   "execution_count": 19,
   "metadata": {},
   "outputs": [
    {
     "data": {
      "text/html": [
       "<div>\n",
       "<style scoped>\n",
       "    .dataframe tbody tr th:only-of-type {\n",
       "        vertical-align: middle;\n",
       "    }\n",
       "\n",
       "    .dataframe tbody tr th {\n",
       "        vertical-align: top;\n",
       "    }\n",
       "\n",
       "    .dataframe thead tr th {\n",
       "        text-align: left;\n",
       "    }\n",
       "</style>\n",
       "<table border=\"1\" class=\"dataframe\">\n",
       "  <thead>\n",
       "    <tr>\n",
       "      <th></th>\n",
       "      <th>date</th>\n",
       "      <th colspan=\"4\" halign=\"left\">Price</th>\n",
       "    </tr>\n",
       "    <tr>\n",
       "      <th></th>\n",
       "      <th></th>\n",
       "      <th>min</th>\n",
       "      <th>max</th>\n",
       "      <th>first</th>\n",
       "      <th>last</th>\n",
       "    </tr>\n",
       "  </thead>\n",
       "  <tbody>\n",
       "    <tr>\n",
       "      <th>0</th>\n",
       "      <td>2021-10-17</td>\n",
       "      <td>59498.588341</td>\n",
       "      <td>61469.747869</td>\n",
       "      <td>61051.988324</td>\n",
       "      <td>59498.588341</td>\n",
       "    </tr>\n",
       "    <tr>\n",
       "      <th>1</th>\n",
       "      <td>2021-10-18</td>\n",
       "      <td>60565.345082</td>\n",
       "      <td>62794.042756</td>\n",
       "      <td>60802.774179</td>\n",
       "      <td>61291.182960</td>\n",
       "    </tr>\n",
       "    <tr>\n",
       "      <th>2</th>\n",
       "      <td>2021-10-19</td>\n",
       "      <td>61795.839004</td>\n",
       "      <td>64071.376373</td>\n",
       "      <td>61795.839004</td>\n",
       "      <td>64071.376373</td>\n",
       "    </tr>\n",
       "    <tr>\n",
       "      <th>3</th>\n",
       "      <td>2021-10-20</td>\n",
       "      <td>63753.896855</td>\n",
       "      <td>67118.891946</td>\n",
       "      <td>64123.519102</td>\n",
       "      <td>66318.127393</td>\n",
       "    </tr>\n",
       "    <tr>\n",
       "      <th>4</th>\n",
       "      <td>2021-10-21</td>\n",
       "      <td>62705.137288</td>\n",
       "      <td>66424.674259</td>\n",
       "      <td>65974.642577</td>\n",
       "      <td>62978.457697</td>\n",
       "    </tr>\n",
       "    <tr>\n",
       "      <th>5</th>\n",
       "      <td>2021-10-22</td>\n",
       "      <td>60768.884213</td>\n",
       "      <td>63901.747336</td>\n",
       "      <td>62386.667168</td>\n",
       "      <td>60882.921198</td>\n",
       "    </tr>\n",
       "    <tr>\n",
       "      <th>6</th>\n",
       "      <td>2021-10-23</td>\n",
       "      <td>60405.151363</td>\n",
       "      <td>61899.451064</td>\n",
       "      <td>60405.151363</td>\n",
       "      <td>61091.801728</td>\n",
       "    </tr>\n",
       "    <tr>\n",
       "      <th>7</th>\n",
       "      <td>2021-10-24</td>\n",
       "      <td>60171.631919</td>\n",
       "      <td>61572.140434</td>\n",
       "      <td>61532.719403</td>\n",
       "      <td>61315.382786</td>\n",
       "    </tr>\n",
       "    <tr>\n",
       "      <th>8</th>\n",
       "      <td>2021-10-25</td>\n",
       "      <td>60921.603746</td>\n",
       "      <td>63917.434158</td>\n",
       "      <td>60921.603746</td>\n",
       "      <td>62891.775659</td>\n",
       "    </tr>\n",
       "    <tr>\n",
       "      <th>9</th>\n",
       "      <td>2021-10-26</td>\n",
       "      <td>61972.932606</td>\n",
       "      <td>63333.083275</td>\n",
       "      <td>63113.777845</td>\n",
       "      <td>62336.146308</td>\n",
       "    </tr>\n",
       "    <tr>\n",
       "      <th>10</th>\n",
       "      <td>2021-10-27</td>\n",
       "      <td>58708.953098</td>\n",
       "      <td>61525.057147</td>\n",
       "      <td>60776.030045</td>\n",
       "      <td>58995.435119</td>\n",
       "    </tr>\n",
       "    <tr>\n",
       "      <th>11</th>\n",
       "      <td>2021-10-28</td>\n",
       "      <td>58501.391492</td>\n",
       "      <td>61803.521503</td>\n",
       "      <td>59021.085399</td>\n",
       "      <td>61605.245502</td>\n",
       "    </tr>\n",
       "    <tr>\n",
       "      <th>12</th>\n",
       "      <td>2021-10-29</td>\n",
       "      <td>60698.166179</td>\n",
       "      <td>62912.085257</td>\n",
       "      <td>61076.700751</td>\n",
       "      <td>62463.092709</td>\n",
       "    </tr>\n",
       "    <tr>\n",
       "      <th>13</th>\n",
       "      <td>2021-10-30</td>\n",
       "      <td>61331.287313</td>\n",
       "      <td>62518.608007</td>\n",
       "      <td>62518.608007</td>\n",
       "      <td>61888.968402</td>\n",
       "    </tr>\n",
       "    <tr>\n",
       "      <th>14</th>\n",
       "      <td>2021-10-31</td>\n",
       "      <td>60448.852454</td>\n",
       "      <td>62349.611660</td>\n",
       "      <td>61687.021522</td>\n",
       "      <td>61564.920919</td>\n",
       "    </tr>\n",
       "    <tr>\n",
       "      <th>15</th>\n",
       "      <td>2021-11-01</td>\n",
       "      <td>59979.030236</td>\n",
       "      <td>62302.431084</td>\n",
       "      <td>61472.844726</td>\n",
       "      <td>60950.819200</td>\n",
       "    </tr>\n",
       "    <tr>\n",
       "      <th>16</th>\n",
       "      <td>2021-11-02</td>\n",
       "      <td>60876.487803</td>\n",
       "      <td>64210.946538</td>\n",
       "      <td>61185.320289</td>\n",
       "      <td>63035.316596</td>\n",
       "    </tr>\n",
       "    <tr>\n",
       "      <th>17</th>\n",
       "      <td>2021-11-03</td>\n",
       "      <td>61947.974470</td>\n",
       "      <td>63546.464313</td>\n",
       "      <td>62954.452300</td>\n",
       "      <td>63205.480873</td>\n",
       "    </tr>\n",
       "    <tr>\n",
       "      <th>18</th>\n",
       "      <td>2021-11-04</td>\n",
       "      <td>61063.504554</td>\n",
       "      <td>63025.089676</td>\n",
       "      <td>62913.679251</td>\n",
       "      <td>61467.790330</td>\n",
       "    </tr>\n",
       "    <tr>\n",
       "      <th>19</th>\n",
       "      <td>2021-11-05</td>\n",
       "      <td>60931.950483</td>\n",
       "      <td>62468.877431</td>\n",
       "      <td>61325.802823</td>\n",
       "      <td>61275.146978</td>\n",
       "    </tr>\n",
       "    <tr>\n",
       "      <th>20</th>\n",
       "      <td>2021-11-06</td>\n",
       "      <td>60493.366134</td>\n",
       "      <td>61634.282542</td>\n",
       "      <td>61275.780558</td>\n",
       "      <td>61610.838755</td>\n",
       "    </tr>\n",
       "    <tr>\n",
       "      <th>21</th>\n",
       "      <td>2021-11-07</td>\n",
       "      <td>61566.480378</td>\n",
       "      <td>63005.039479</td>\n",
       "      <td>61566.480378</td>\n",
       "      <td>63005.039479</td>\n",
       "    </tr>\n",
       "    <tr>\n",
       "      <th>22</th>\n",
       "      <td>2021-11-08</td>\n",
       "      <td>63036.736127</td>\n",
       "      <td>66509.587623</td>\n",
       "      <td>63036.736127</td>\n",
       "      <td>66389.783854</td>\n",
       "    </tr>\n",
       "    <tr>\n",
       "      <th>23</th>\n",
       "      <td>2021-11-09</td>\n",
       "      <td>66660.734224</td>\n",
       "      <td>68425.843440</td>\n",
       "      <td>66660.734224</td>\n",
       "      <td>67775.335325</td>\n",
       "    </tr>\n",
       "    <tr>\n",
       "      <th>24</th>\n",
       "      <td>2021-11-10</td>\n",
       "      <td>65332.537632</td>\n",
       "      <td>68640.160350</td>\n",
       "      <td>67549.367640</td>\n",
       "      <td>65332.537632</td>\n",
       "    </tr>\n",
       "    <tr>\n",
       "      <th>25</th>\n",
       "      <td>2021-11-11</td>\n",
       "      <td>64712.056838</td>\n",
       "      <td>65735.078555</td>\n",
       "      <td>65261.569194</td>\n",
       "      <td>65265.112166</td>\n",
       "    </tr>\n",
       "    <tr>\n",
       "      <th>26</th>\n",
       "      <td>2021-11-12</td>\n",
       "      <td>63091.010593</td>\n",
       "      <td>65746.739570</td>\n",
       "      <td>65419.411416</td>\n",
       "      <td>64341.158049</td>\n",
       "    </tr>\n",
       "    <tr>\n",
       "      <th>27</th>\n",
       "      <td>2021-11-13</td>\n",
       "      <td>63691.403147</td>\n",
       "      <td>64991.705536</td>\n",
       "      <td>64111.227812</td>\n",
       "      <td>64471.931313</td>\n",
       "    </tr>\n",
       "    <tr>\n",
       "      <th>28</th>\n",
       "      <td>2021-11-14</td>\n",
       "      <td>63874.891514</td>\n",
       "      <td>65219.483033</td>\n",
       "      <td>64521.648875</td>\n",
       "      <td>64599.942505</td>\n",
       "    </tr>\n",
       "    <tr>\n",
       "      <th>29</th>\n",
       "      <td>2021-11-15</td>\n",
       "      <td>63991.944474</td>\n",
       "      <td>66136.912461</td>\n",
       "      <td>64763.012845</td>\n",
       "      <td>64241.511398</td>\n",
       "    </tr>\n",
       "    <tr>\n",
       "      <th>30</th>\n",
       "      <td>2021-11-16</td>\n",
       "      <td>61018.843343</td>\n",
       "      <td>64069.393251</td>\n",
       "      <td>64069.393251</td>\n",
       "      <td>61107.227691</td>\n",
       "    </tr>\n",
       "  </tbody>\n",
       "</table>\n",
       "</div>"
      ],
      "text/plain": [
       "          date         Price                                          \n",
       "                         min           max         first          last\n",
       "0   2021-10-17  59498.588341  61469.747869  61051.988324  59498.588341\n",
       "1   2021-10-18  60565.345082  62794.042756  60802.774179  61291.182960\n",
       "2   2021-10-19  61795.839004  64071.376373  61795.839004  64071.376373\n",
       "3   2021-10-20  63753.896855  67118.891946  64123.519102  66318.127393\n",
       "4   2021-10-21  62705.137288  66424.674259  65974.642577  62978.457697\n",
       "5   2021-10-22  60768.884213  63901.747336  62386.667168  60882.921198\n",
       "6   2021-10-23  60405.151363  61899.451064  60405.151363  61091.801728\n",
       "7   2021-10-24  60171.631919  61572.140434  61532.719403  61315.382786\n",
       "8   2021-10-25  60921.603746  63917.434158  60921.603746  62891.775659\n",
       "9   2021-10-26  61972.932606  63333.083275  63113.777845  62336.146308\n",
       "10  2021-10-27  58708.953098  61525.057147  60776.030045  58995.435119\n",
       "11  2021-10-28  58501.391492  61803.521503  59021.085399  61605.245502\n",
       "12  2021-10-29  60698.166179  62912.085257  61076.700751  62463.092709\n",
       "13  2021-10-30  61331.287313  62518.608007  62518.608007  61888.968402\n",
       "14  2021-10-31  60448.852454  62349.611660  61687.021522  61564.920919\n",
       "15  2021-11-01  59979.030236  62302.431084  61472.844726  60950.819200\n",
       "16  2021-11-02  60876.487803  64210.946538  61185.320289  63035.316596\n",
       "17  2021-11-03  61947.974470  63546.464313  62954.452300  63205.480873\n",
       "18  2021-11-04  61063.504554  63025.089676  62913.679251  61467.790330\n",
       "19  2021-11-05  60931.950483  62468.877431  61325.802823  61275.146978\n",
       "20  2021-11-06  60493.366134  61634.282542  61275.780558  61610.838755\n",
       "21  2021-11-07  61566.480378  63005.039479  61566.480378  63005.039479\n",
       "22  2021-11-08  63036.736127  66509.587623  63036.736127  66389.783854\n",
       "23  2021-11-09  66660.734224  68425.843440  66660.734224  67775.335325\n",
       "24  2021-11-10  65332.537632  68640.160350  67549.367640  65332.537632\n",
       "25  2021-11-11  64712.056838  65735.078555  65261.569194  65265.112166\n",
       "26  2021-11-12  63091.010593  65746.739570  65419.411416  64341.158049\n",
       "27  2021-11-13  63691.403147  64991.705536  64111.227812  64471.931313\n",
       "28  2021-11-14  63874.891514  65219.483033  64521.648875  64599.942505\n",
       "29  2021-11-15  63991.944474  66136.912461  64763.012845  64241.511398\n",
       "30  2021-11-16  61018.843343  64069.393251  64069.393251  61107.227691"
      ]
     },
     "execution_count": 19,
     "metadata": {},
     "output_type": "execute_result"
    }
   ],
   "source": [
    "candlestick_data = data.groupby(data.date, as_index=False).agg({\"Price\": ['min', 'max', 'first', 'last']})\n",
    "candlestick_data"
   ]
  },
  {
   "cell_type": "markdown",
   "metadata": {},
   "source": [
    "## Data Visualization "
   ]
  },
  {
   "cell_type": "markdown",
   "metadata": {},
   "source": [
    "#### Finally we are now ready to use plotly to create our Candlestick Chart."
   ]
  },
  {
   "cell_type": "code",
   "execution_count": 18,
   "metadata": {},
   "outputs": [
    {
     "data": {
      "application/vnd.plotly.v1+json": {
       "config": {
        "plotlyServerURL": "https://plot.ly"
       },
       "data": [
        {
         "close": [
          59498.5883413694,
          61291.182960356666,
          64071.37637300845,
          66318.12739285495,
          62978.45769658165,
          60882.921197883436,
          61091.80172807144,
          61315.38278642506,
          62891.77565942479,
          62336.14630806755,
          58995.43511912651,
          61605.24550242295,
          62463.09270895821,
          61888.96840216213,
          61564.92091912697,
          60950.81919978386,
          63035.316595594,
          63205.48087302269,
          61467.7903297479,
          61275.14697812769,
          61610.83875459432,
          63005.03947881222,
          66389.78385407776,
          67775.33532502735,
          65332.537632314314,
          65265.1121661448,
          64341.15804940664,
          64471.931312580025,
          64599.94250518817,
          64241.511397600945,
          61107.2276908734
         ],
         "high": [
          61469.74786855499,
          62794.042756009745,
          64071.37637300845,
          67118.89194557608,
          66424.67425933438,
          63901.74733648885,
          61899.45106436194,
          61572.14043422243,
          63917.434158466596,
          63333.08327548281,
          61525.05714700251,
          61803.521502544674,
          62912.08525722488,
          62518.60800745937,
          62349.61165957307,
          62302.431083543685,
          64210.946538040276,
          63546.46431329936,
          63025.089675660354,
          62468.87743148102,
          61634.28254184476,
          63005.03947881222,
          66509.5876232143,
          68425.84344035048,
          68640.16034986946,
          65735.07855462219,
          65746.73956969603,
          64991.705536404064,
          65219.4830332113,
          66136.91246118222,
          64069.39325069164
         ],
         "low": [
          59498.5883413694,
          60565.34508162485,
          61795.83900386105,
          63753.89685455743,
          62705.1372884289,
          60768.8842133217,
          60405.151363152625,
          60171.631919271116,
          60921.603746009736,
          61972.93260624749,
          58708.95309797362,
          58501.39149206386,
          60698.16617918995,
          61331.28731343258,
          60448.85245352196,
          59979.03023640218,
          60876.48780327675,
          61947.97447039592,
          61063.50455405976,
          60931.950483409666,
          60493.36613444398,
          61566.480378170265,
          63036.736127182565,
          66660.7342238841,
          65332.537632314314,
          64712.05683762485,
          63091.01059319875,
          63691.40314718218,
          63874.891513550705,
          63991.944473539064,
          61018.843342979875
         ],
         "open": [
          61051.9883239242,
          60802.77417909998,
          61795.83900386105,
          64123.51910155125,
          65974.64257698017,
          62386.66716768255,
          60405.151363152625,
          61532.71940330785,
          60921.603746009736,
          63113.77784501131,
          60776.030045155225,
          59021.0853985233,
          61076.70075066628,
          62518.60800745937,
          61687.02152210307,
          61472.84472582546,
          61185.32028943686,
          62954.45230044289,
          62913.67925050198,
          61325.80282302198,
          61275.7805576767,
          61566.480378170265,
          63036.736127182565,
          66660.7342238841,
          67549.36763994195,
          65261.56919374489,
          65419.41141574062,
          64111.22781164685,
          64521.64887531047,
          64763.01284481214,
          64069.39325069164
         ],
         "type": "candlestick",
         "x": [
          "2021-10-17",
          "2021-10-18",
          "2021-10-19",
          "2021-10-20",
          "2021-10-21",
          "2021-10-22",
          "2021-10-23",
          "2021-10-24",
          "2021-10-25",
          "2021-10-26",
          "2021-10-27",
          "2021-10-28",
          "2021-10-29",
          "2021-10-30",
          "2021-10-31",
          "2021-11-01",
          "2021-11-02",
          "2021-11-03",
          "2021-11-04",
          "2021-11-05",
          "2021-11-06",
          "2021-11-07",
          "2021-11-08",
          "2021-11-09",
          "2021-11-10",
          "2021-11-11",
          "2021-11-12",
          "2021-11-13",
          "2021-11-14",
          "2021-11-15",
          "2021-11-16"
         ]
        }
       ],
       "layout": {
        "template": {
         "data": {
          "bar": [
           {
            "error_x": {
             "color": "#2a3f5f"
            },
            "error_y": {
             "color": "#2a3f5f"
            },
            "marker": {
             "line": {
              "color": "#E5ECF6",
              "width": 0.5
             },
             "pattern": {
              "fillmode": "overlay",
              "size": 10,
              "solidity": 0.2
             }
            },
            "type": "bar"
           }
          ],
          "barpolar": [
           {
            "marker": {
             "line": {
              "color": "#E5ECF6",
              "width": 0.5
             },
             "pattern": {
              "fillmode": "overlay",
              "size": 10,
              "solidity": 0.2
             }
            },
            "type": "barpolar"
           }
          ],
          "carpet": [
           {
            "aaxis": {
             "endlinecolor": "#2a3f5f",
             "gridcolor": "white",
             "linecolor": "white",
             "minorgridcolor": "white",
             "startlinecolor": "#2a3f5f"
            },
            "baxis": {
             "endlinecolor": "#2a3f5f",
             "gridcolor": "white",
             "linecolor": "white",
             "minorgridcolor": "white",
             "startlinecolor": "#2a3f5f"
            },
            "type": "carpet"
           }
          ],
          "choropleth": [
           {
            "colorbar": {
             "outlinewidth": 0,
             "ticks": ""
            },
            "type": "choropleth"
           }
          ],
          "contour": [
           {
            "colorbar": {
             "outlinewidth": 0,
             "ticks": ""
            },
            "colorscale": [
             [
              0,
              "#0d0887"
             ],
             [
              0.1111111111111111,
              "#46039f"
             ],
             [
              0.2222222222222222,
              "#7201a8"
             ],
             [
              0.3333333333333333,
              "#9c179e"
             ],
             [
              0.4444444444444444,
              "#bd3786"
             ],
             [
              0.5555555555555556,
              "#d8576b"
             ],
             [
              0.6666666666666666,
              "#ed7953"
             ],
             [
              0.7777777777777778,
              "#fb9f3a"
             ],
             [
              0.8888888888888888,
              "#fdca26"
             ],
             [
              1,
              "#f0f921"
             ]
            ],
            "type": "contour"
           }
          ],
          "contourcarpet": [
           {
            "colorbar": {
             "outlinewidth": 0,
             "ticks": ""
            },
            "type": "contourcarpet"
           }
          ],
          "heatmap": [
           {
            "colorbar": {
             "outlinewidth": 0,
             "ticks": ""
            },
            "colorscale": [
             [
              0,
              "#0d0887"
             ],
             [
              0.1111111111111111,
              "#46039f"
             ],
             [
              0.2222222222222222,
              "#7201a8"
             ],
             [
              0.3333333333333333,
              "#9c179e"
             ],
             [
              0.4444444444444444,
              "#bd3786"
             ],
             [
              0.5555555555555556,
              "#d8576b"
             ],
             [
              0.6666666666666666,
              "#ed7953"
             ],
             [
              0.7777777777777778,
              "#fb9f3a"
             ],
             [
              0.8888888888888888,
              "#fdca26"
             ],
             [
              1,
              "#f0f921"
             ]
            ],
            "type": "heatmap"
           }
          ],
          "heatmapgl": [
           {
            "colorbar": {
             "outlinewidth": 0,
             "ticks": ""
            },
            "colorscale": [
             [
              0,
              "#0d0887"
             ],
             [
              0.1111111111111111,
              "#46039f"
             ],
             [
              0.2222222222222222,
              "#7201a8"
             ],
             [
              0.3333333333333333,
              "#9c179e"
             ],
             [
              0.4444444444444444,
              "#bd3786"
             ],
             [
              0.5555555555555556,
              "#d8576b"
             ],
             [
              0.6666666666666666,
              "#ed7953"
             ],
             [
              0.7777777777777778,
              "#fb9f3a"
             ],
             [
              0.8888888888888888,
              "#fdca26"
             ],
             [
              1,
              "#f0f921"
             ]
            ],
            "type": "heatmapgl"
           }
          ],
          "histogram": [
           {
            "marker": {
             "pattern": {
              "fillmode": "overlay",
              "size": 10,
              "solidity": 0.2
             }
            },
            "type": "histogram"
           }
          ],
          "histogram2d": [
           {
            "colorbar": {
             "outlinewidth": 0,
             "ticks": ""
            },
            "colorscale": [
             [
              0,
              "#0d0887"
             ],
             [
              0.1111111111111111,
              "#46039f"
             ],
             [
              0.2222222222222222,
              "#7201a8"
             ],
             [
              0.3333333333333333,
              "#9c179e"
             ],
             [
              0.4444444444444444,
              "#bd3786"
             ],
             [
              0.5555555555555556,
              "#d8576b"
             ],
             [
              0.6666666666666666,
              "#ed7953"
             ],
             [
              0.7777777777777778,
              "#fb9f3a"
             ],
             [
              0.8888888888888888,
              "#fdca26"
             ],
             [
              1,
              "#f0f921"
             ]
            ],
            "type": "histogram2d"
           }
          ],
          "histogram2dcontour": [
           {
            "colorbar": {
             "outlinewidth": 0,
             "ticks": ""
            },
            "colorscale": [
             [
              0,
              "#0d0887"
             ],
             [
              0.1111111111111111,
              "#46039f"
             ],
             [
              0.2222222222222222,
              "#7201a8"
             ],
             [
              0.3333333333333333,
              "#9c179e"
             ],
             [
              0.4444444444444444,
              "#bd3786"
             ],
             [
              0.5555555555555556,
              "#d8576b"
             ],
             [
              0.6666666666666666,
              "#ed7953"
             ],
             [
              0.7777777777777778,
              "#fb9f3a"
             ],
             [
              0.8888888888888888,
              "#fdca26"
             ],
             [
              1,
              "#f0f921"
             ]
            ],
            "type": "histogram2dcontour"
           }
          ],
          "mesh3d": [
           {
            "colorbar": {
             "outlinewidth": 0,
             "ticks": ""
            },
            "type": "mesh3d"
           }
          ],
          "parcoords": [
           {
            "line": {
             "colorbar": {
              "outlinewidth": 0,
              "ticks": ""
             }
            },
            "type": "parcoords"
           }
          ],
          "pie": [
           {
            "automargin": true,
            "type": "pie"
           }
          ],
          "scatter": [
           {
            "marker": {
             "colorbar": {
              "outlinewidth": 0,
              "ticks": ""
             }
            },
            "type": "scatter"
           }
          ],
          "scatter3d": [
           {
            "line": {
             "colorbar": {
              "outlinewidth": 0,
              "ticks": ""
             }
            },
            "marker": {
             "colorbar": {
              "outlinewidth": 0,
              "ticks": ""
             }
            },
            "type": "scatter3d"
           }
          ],
          "scattercarpet": [
           {
            "marker": {
             "colorbar": {
              "outlinewidth": 0,
              "ticks": ""
             }
            },
            "type": "scattercarpet"
           }
          ],
          "scattergeo": [
           {
            "marker": {
             "colorbar": {
              "outlinewidth": 0,
              "ticks": ""
             }
            },
            "type": "scattergeo"
           }
          ],
          "scattergl": [
           {
            "marker": {
             "colorbar": {
              "outlinewidth": 0,
              "ticks": ""
             }
            },
            "type": "scattergl"
           }
          ],
          "scattermapbox": [
           {
            "marker": {
             "colorbar": {
              "outlinewidth": 0,
              "ticks": ""
             }
            },
            "type": "scattermapbox"
           }
          ],
          "scatterpolar": [
           {
            "marker": {
             "colorbar": {
              "outlinewidth": 0,
              "ticks": ""
             }
            },
            "type": "scatterpolar"
           }
          ],
          "scatterpolargl": [
           {
            "marker": {
             "colorbar": {
              "outlinewidth": 0,
              "ticks": ""
             }
            },
            "type": "scatterpolargl"
           }
          ],
          "scatterternary": [
           {
            "marker": {
             "colorbar": {
              "outlinewidth": 0,
              "ticks": ""
             }
            },
            "type": "scatterternary"
           }
          ],
          "surface": [
           {
            "colorbar": {
             "outlinewidth": 0,
             "ticks": ""
            },
            "colorscale": [
             [
              0,
              "#0d0887"
             ],
             [
              0.1111111111111111,
              "#46039f"
             ],
             [
              0.2222222222222222,
              "#7201a8"
             ],
             [
              0.3333333333333333,
              "#9c179e"
             ],
             [
              0.4444444444444444,
              "#bd3786"
             ],
             [
              0.5555555555555556,
              "#d8576b"
             ],
             [
              0.6666666666666666,
              "#ed7953"
             ],
             [
              0.7777777777777778,
              "#fb9f3a"
             ],
             [
              0.8888888888888888,
              "#fdca26"
             ],
             [
              1,
              "#f0f921"
             ]
            ],
            "type": "surface"
           }
          ],
          "table": [
           {
            "cells": {
             "fill": {
              "color": "#EBF0F8"
             },
             "line": {
              "color": "white"
             }
            },
            "header": {
             "fill": {
              "color": "#C8D4E3"
             },
             "line": {
              "color": "white"
             }
            },
            "type": "table"
           }
          ]
         },
         "layout": {
          "annotationdefaults": {
           "arrowcolor": "#2a3f5f",
           "arrowhead": 0,
           "arrowwidth": 1
          },
          "autotypenumbers": "strict",
          "coloraxis": {
           "colorbar": {
            "outlinewidth": 0,
            "ticks": ""
           }
          },
          "colorscale": {
           "diverging": [
            [
             0,
             "#8e0152"
            ],
            [
             0.1,
             "#c51b7d"
            ],
            [
             0.2,
             "#de77ae"
            ],
            [
             0.3,
             "#f1b6da"
            ],
            [
             0.4,
             "#fde0ef"
            ],
            [
             0.5,
             "#f7f7f7"
            ],
            [
             0.6,
             "#e6f5d0"
            ],
            [
             0.7,
             "#b8e186"
            ],
            [
             0.8,
             "#7fbc41"
            ],
            [
             0.9,
             "#4d9221"
            ],
            [
             1,
             "#276419"
            ]
           ],
           "sequential": [
            [
             0,
             "#0d0887"
            ],
            [
             0.1111111111111111,
             "#46039f"
            ],
            [
             0.2222222222222222,
             "#7201a8"
            ],
            [
             0.3333333333333333,
             "#9c179e"
            ],
            [
             0.4444444444444444,
             "#bd3786"
            ],
            [
             0.5555555555555556,
             "#d8576b"
            ],
            [
             0.6666666666666666,
             "#ed7953"
            ],
            [
             0.7777777777777778,
             "#fb9f3a"
            ],
            [
             0.8888888888888888,
             "#fdca26"
            ],
            [
             1,
             "#f0f921"
            ]
           ],
           "sequentialminus": [
            [
             0,
             "#0d0887"
            ],
            [
             0.1111111111111111,
             "#46039f"
            ],
            [
             0.2222222222222222,
             "#7201a8"
            ],
            [
             0.3333333333333333,
             "#9c179e"
            ],
            [
             0.4444444444444444,
             "#bd3786"
            ],
            [
             0.5555555555555556,
             "#d8576b"
            ],
            [
             0.6666666666666666,
             "#ed7953"
            ],
            [
             0.7777777777777778,
             "#fb9f3a"
            ],
            [
             0.8888888888888888,
             "#fdca26"
            ],
            [
             1,
             "#f0f921"
            ]
           ]
          },
          "colorway": [
           "#636efa",
           "#EF553B",
           "#00cc96",
           "#ab63fa",
           "#FFA15A",
           "#19d3f3",
           "#FF6692",
           "#B6E880",
           "#FF97FF",
           "#FECB52"
          ],
          "font": {
           "color": "#2a3f5f"
          },
          "geo": {
           "bgcolor": "white",
           "lakecolor": "white",
           "landcolor": "#E5ECF6",
           "showlakes": true,
           "showland": true,
           "subunitcolor": "white"
          },
          "hoverlabel": {
           "align": "left"
          },
          "hovermode": "closest",
          "mapbox": {
           "style": "light"
          },
          "paper_bgcolor": "white",
          "plot_bgcolor": "#E5ECF6",
          "polar": {
           "angularaxis": {
            "gridcolor": "white",
            "linecolor": "white",
            "ticks": ""
           },
           "bgcolor": "#E5ECF6",
           "radialaxis": {
            "gridcolor": "white",
            "linecolor": "white",
            "ticks": ""
           }
          },
          "scene": {
           "xaxis": {
            "backgroundcolor": "#E5ECF6",
            "gridcolor": "white",
            "gridwidth": 2,
            "linecolor": "white",
            "showbackground": true,
            "ticks": "",
            "zerolinecolor": "white"
           },
           "yaxis": {
            "backgroundcolor": "#E5ECF6",
            "gridcolor": "white",
            "gridwidth": 2,
            "linecolor": "white",
            "showbackground": true,
            "ticks": "",
            "zerolinecolor": "white"
           },
           "zaxis": {
            "backgroundcolor": "#E5ECF6",
            "gridcolor": "white",
            "gridwidth": 2,
            "linecolor": "white",
            "showbackground": true,
            "ticks": "",
            "zerolinecolor": "white"
           }
          },
          "shapedefaults": {
           "line": {
            "color": "#2a3f5f"
           }
          },
          "ternary": {
           "aaxis": {
            "gridcolor": "white",
            "linecolor": "white",
            "ticks": ""
           },
           "baxis": {
            "gridcolor": "white",
            "linecolor": "white",
            "ticks": ""
           },
           "bgcolor": "#E5ECF6",
           "caxis": {
            "gridcolor": "white",
            "linecolor": "white",
            "ticks": ""
           }
          },
          "title": {
           "x": 0.05
          },
          "xaxis": {
           "automargin": true,
           "gridcolor": "white",
           "linecolor": "white",
           "ticks": "",
           "title": {
            "standoff": 15
           },
           "zerolinecolor": "white",
           "zerolinewidth": 2
          },
          "yaxis": {
           "automargin": true,
           "gridcolor": "white",
           "linecolor": "white",
           "ticks": "",
           "title": {
            "standoff": 15
           },
           "zerolinecolor": "white",
           "zerolinewidth": 2
          }
         }
        },
        "xaxis": {
         "rangeslider": {
          "visible": false
         }
        }
       }
      }
     },
     "metadata": {},
     "output_type": "display_data"
    }
   ],
   "source": [
    "fig = go.Figure(data=[go.Candlestick(x=candlestick_data['date'],\n",
    "                open=candlestick_data['Price']['first'], \n",
    "                high=candlestick_data['Price']['max'],\n",
    "                low=candlestick_data['Price']['min'], \n",
    "                close=candlestick_data['Price']['last'])\n",
    "                ])\n",
    "\n",
    "fig.update_layout(xaxis_rangeslider_visible=False)\n",
    "\n",
    "fig.show()"
   ]
  }
 ],
 "metadata": {
  "interpreter": {
   "hash": "ec407e9a90241398dd6d8dcd00300b01d5e34eeb81c7bfe6d2e5e760a020c14a"
  },
  "kernelspec": {
   "display_name": "Python 3.9.8 64-bit (windows store)",
   "language": "python",
   "name": "python3"
  },
  "language_info": {
   "codemirror_mode": {
    "name": "ipython",
    "version": 3
   },
   "file_extension": ".py",
   "mimetype": "text/x-python",
   "name": "python",
   "nbconvert_exporter": "python",
   "pygments_lexer": "ipython3",
   "version": "3.9.8"
  },
  "orig_nbformat": 4
 },
 "nbformat": 4,
 "nbformat_minor": 2
}
